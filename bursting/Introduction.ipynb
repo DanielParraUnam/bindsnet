{
 "cells": [
  {
   "cell_type": "markdown",
   "id": "a2212c0a",
   "metadata": {},
   "source": [
    "# Introducing Bursting in SNN with BindsNET"
   ]
  },
  {
   "cell_type": "markdown",
   "id": "3c9fc05d",
   "metadata": {},
   "source": [
    "## Installation"
   ]
  },
  {
   "cell_type": "markdown",
   "id": "cdce8ac1",
   "metadata": {},
   "source": [
    "Run the following commands on the terminal or conda prompt."
   ]
  },
  {
   "cell_type": "markdown",
   "id": "47725279",
   "metadata": {},
   "source": [
    "Select local directory of installation. "
   ]
  },
  {
   "cell_type": "code",
   "execution_count": 25,
   "id": "dba2b533",
   "metadata": {},
   "outputs": [
    {
     "name": "stdout",
     "output_type": "stream",
     "text": [
      "C:\\Users\\User\\Documents\\Maestría\\RedesNeuronales\\ProyectoFinal\n"
     ]
    }
   ],
   "source": [
    "cd Users\\\\User\\\\Documents\\\\Maestría\\\\RedesNeuronales\\\\ProyectoFinal"
   ]
  },
  {
   "cell_type": "markdown",
   "id": "ee73aaf4",
   "metadata": {},
   "source": [
    "Then clone the repository."
   ]
  },
  {
   "cell_type": "code",
   "execution_count": null,
   "id": "e5371be8",
   "metadata": {},
   "outputs": [],
   "source": [
    "git clone https://github.com/DanielParraUnam/bindsnet"
   ]
  },
  {
   "cell_type": "markdown",
   "id": "2f6c016d",
   "metadata": {},
   "source": [
    "Finally, install forked Bindsnet with Bursting Nodes with or without -editable flag."
   ]
  },
  {
   "cell_type": "code",
   "execution_count": null,
   "id": "c77d1fd1",
   "metadata": {},
   "outputs": [],
   "source": [
    "pip install -e ./bindsnet"
   ]
  }
 ],
 "metadata": {
  "kernelspec": {
   "display_name": "Python 3",
   "language": "python",
   "name": "python3"
  },
  "language_info": {
   "codemirror_mode": {
    "name": "ipython",
    "version": 3
   },
   "file_extension": ".py",
   "mimetype": "text/x-python",
   "name": "python",
   "nbconvert_exporter": "python",
   "pygments_lexer": "ipython3",
   "version": "3.7.7"
  }
 },
 "nbformat": 4,
 "nbformat_minor": 5
}
