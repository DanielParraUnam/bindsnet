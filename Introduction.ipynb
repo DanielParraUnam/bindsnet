{
 "cells": [
  {
   "cell_type": "markdown",
   "id": "6105eec8",
   "metadata": {},
   "source": [
    "# Introducing Bursting in SNN with BindsNET"
   ]
  },
  {
   "cell_type": "markdown",
   "id": "7bae7d95",
   "metadata": {},
   "source": [
    "## Installation"
   ]
  },
  {
   "cell_type": "markdown",
   "id": "6d046f62",
   "metadata": {},
   "source": [
    "Run the following commands on the terminal or conda prompt."
   ]
  },
  {
   "cell_type": "markdown",
   "id": "cc7a72ae",
   "metadata": {},
   "source": [
    "Select local directory of installation. "
   ]
  },
  {
   "cell_type": "code",
   "execution_count": 25,
   "id": "255b0866",
   "metadata": {},
   "outputs": [
    {
     "name": "stdout",
     "output_type": "stream",
     "text": [
      "C:\\Users\\User\\Documents\\Maestría\\RedesNeuronales\\ProyectoFinal\n"
     ]
    }
   ],
   "source": [
    "cd Users\\\\User\\\\Documents\\\\Maestría\\\\RedesNeuronales\\\\ProyectoFinal"
   ]
  },
  {
   "cell_type": "markdown",
   "id": "27534b2a",
   "metadata": {},
   "source": [
    "Then clone the repository."
   ]
  },
  {
   "cell_type": "code",
   "execution_count": null,
   "id": "0c6f0320",
   "metadata": {},
   "outputs": [],
   "source": [
    "git clone https://github.com/DanielParraUnam/bindsnet"
   ]
  },
  {
   "cell_type": "markdown",
   "id": "3d4aaeae",
   "metadata": {},
   "source": [
    "Finally install forked Bindsnet with Bursting Nodes."
   ]
  },
  {
   "cell_type": "code",
   "execution_count": null,
   "id": "ee793715",
   "metadata": {},
   "outputs": [],
   "source": [
    "pip install ./bindsnet"
   ]
  }
 ],
 "metadata": {
  "kernelspec": {
   "display_name": "Python 3",
   "language": "python",
   "name": "python3"
  },
  "language_info": {
   "codemirror_mode": {
    "name": "ipython",
    "version": 3
   },
   "file_extension": ".py",
   "mimetype": "text/x-python",
   "name": "python",
   "nbconvert_exporter": "python",
   "pygments_lexer": "ipython3",
   "version": "3.7.7"
  }
 },
 "nbformat": 4,
 "nbformat_minor": 5
}
